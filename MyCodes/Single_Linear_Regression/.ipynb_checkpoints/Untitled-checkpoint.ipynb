{
 "cells": [
  {
   "cell_type": "code",
   "execution_count": 2,
   "id": "68158171",
   "metadata": {},
   "outputs": [],
   "source": [
    "# # unzip dataset\n",
    "# import zipfile\n",
    "# f = zipfile.ZipFile(\"../../Datasets/archive.zip\",'r') # 原压缩文件在服务器的位置\n",
    "# for file in f.namelist():\n",
    "#   f.extract(file,\"./dataset\") #解压到的位置，./表示当前目录(与此.ipynb文件同一个目录)\n",
    "# f.close()\n"
   ]
  },
  {
   "cell_type": "code",
   "execution_count": 36,
   "id": "ba226e47",
   "metadata": {},
   "outputs": [
    {
     "data": {
      "text/html": [
       "<div>\n",
       "<style scoped>\n",
       "    .dataframe tbody tr th:only-of-type {\n",
       "        vertical-align: middle;\n",
       "    }\n",
       "\n",
       "    .dataframe tbody tr th {\n",
       "        vertical-align: top;\n",
       "    }\n",
       "\n",
       "    .dataframe thead th {\n",
       "        text-align: right;\n",
       "    }\n",
       "</style>\n",
       "<table border=\"1\" class=\"dataframe\">\n",
       "  <thead>\n",
       "    <tr style=\"text-align: right;\">\n",
       "      <th></th>\n",
       "      <th>x</th>\n",
       "      <th>y</th>\n",
       "    </tr>\n",
       "  </thead>\n",
       "  <tbody>\n",
       "    <tr>\n",
       "      <th>0</th>\n",
       "      <td>77</td>\n",
       "      <td>79.775152</td>\n",
       "    </tr>\n",
       "    <tr>\n",
       "      <th>1</th>\n",
       "      <td>21</td>\n",
       "      <td>23.177279</td>\n",
       "    </tr>\n",
       "    <tr>\n",
       "      <th>2</th>\n",
       "      <td>22</td>\n",
       "      <td>25.609262</td>\n",
       "    </tr>\n",
       "    <tr>\n",
       "      <th>3</th>\n",
       "      <td>20</td>\n",
       "      <td>17.857388</td>\n",
       "    </tr>\n",
       "    <tr>\n",
       "      <th>4</th>\n",
       "      <td>36</td>\n",
       "      <td>41.849864</td>\n",
       "    </tr>\n",
       "  </tbody>\n",
       "</table>\n",
       "</div>"
      ],
      "text/plain": [
       "    x          y\n",
       "0  77  79.775152\n",
       "1  21  23.177279\n",
       "2  22  25.609262\n",
       "3  20  17.857388\n",
       "4  36  41.849864"
      ]
     },
     "execution_count": 36,
     "metadata": {},
     "output_type": "execute_result"
    }
   ],
   "source": [
    "import pandas as pd\n",
    "import numpy as np\n",
    "import sys\n",
    "\n",
    "data = pd.read_csv(\"./dataset/train.csv\")\n",
    "test_data = pd.read_csv(\"./dataset/test.csv\")\n",
    "data.dropna(axis=0, how='any', inplace=True)\n",
    "test_data.head()"
   ]
  },
  {
   "cell_type": "code",
   "execution_count": 4,
   "id": "9d995af1",
   "metadata": {},
   "outputs": [],
   "source": [
    "data = np.array(data.values.tolist())\n",
    "x = data[:,0]\n",
    "y = data[:,1]"
   ]
  },
  {
   "cell_type": "code",
   "execution_count": 34,
   "id": "9e14b6de",
   "metadata": {},
   "outputs": [
    {
     "data": {
      "image/png": "[encoded data removed]",
      "text/plain": [
       "<Figure size 640x480 with 1 Axes>"
      ]
     },
     "metadata": {},
     "output_type": "display_data"
    }
   ],
   "source": [
    "import matplotlib.pyplot as plt\n",
    "# 绘制散点图\n",
    "# c=color s = size\n",
    "plt.scatter(x, y, c=\"blue\", s = 3)\n",
    "\n",
    "# 设置横纵坐标标签\n",
    "plt.xlabel('x')\n",
    "plt.ylabel('y')\n",
    "\n",
    "# 显示图形\n",
    "plt.show()"
   ]
  },
  {
   "cell_type": "code",
   "execution_count": 6,
   "id": "2c347551",
   "metadata": {},
   "outputs": [],
   "source": [
    "# def getloss(w, b, x_train, y_train):\n",
    "#     loss = 0\n",
    "#     m = len(x_train)\n",
    "#     for i in range(m):\n",
    "#         loss += (w*x_train[i]+b - y_train[i])**2\n",
    "# #         print(f\"times:{i}, loss:{loss}\")\n",
    "#     loss /= 2 * m\n",
    "#     return loss\n",
    "\n",
    "def compute_cost(x, y, w, b):\n",
    "   \n",
    "    m = x.shape[0]\n",
    "    cost = 0.0\n",
    "    \n",
    "    for i in range(m):\n",
    "        f_wb = w * x[i] + b\n",
    "        cost += (f_wb - y[i])**2\n",
    "    total_cost = 1 / (2 * m) * cost\n",
    "\n",
    "    return total_cost\n",
    "\n"
   ]
  },
  {
   "cell_type": "code",
   "execution_count": 7,
   "id": "4374273d",
   "metadata": {},
   "outputs": [
    {
     "name": "stdout",
     "output_type": "stream",
     "text": [
      "3.936827140184711\n"
     ]
    }
   ],
   "source": [
    "print(compute_cost(x,y,1,0))\n",
    "# print(f\"x:{x[213]}, y: {y[213]}\")"
   ]
  },
  {
   "cell_type": "code",
   "execution_count": 8,
   "id": "1ac06c6b",
   "metadata": {},
   "outputs": [],
   "source": [
    "# def gradient_descent(x_train, y_train, w, b):\n",
    "#     gradient_w = 0 \n",
    "#     gradient_b = 0\n",
    "#     m = x_train.shape[0]\n",
    "#     for i in range(m):\n",
    "#         gradient_w += (w * x_train[i]+b-y_train[i])*x_train[i]\n",
    "#         gradient_b += (w * x_train[i]+b-y_train[i])\n",
    "#     gradient_w /= m\n",
    "#     gradient_b /= m\n",
    "#     return gradient_w, gradient_b\n",
    "def compute_gradient(x, y, w, b): \n",
    "    \"\"\"\n",
    "    Computes the gradient for linear regression \n",
    "    Args:\n",
    "      x (ndarray (m,)): Data, m examples \n",
    "      y (ndarray (m,)): target values\n",
    "      w,b (scalar)    : model parameters  \n",
    "    Returns\n",
    "      dj_dw (scalar): The gradient of the cost w.r.t. the parameters w\n",
    "      dj_db (scalar): The gradient of the cost w.r.t. the parameter b     \n",
    "     \"\"\"\n",
    "    \n",
    "    # Number of training examples\n",
    "    m = x.shape[0]    \n",
    "    dj_dw = 0\n",
    "    dj_db = 0\n",
    "    \n",
    "    for i in range(m):  \n",
    "        f_wb = w * x[i] + b \n",
    "        dj_dw_i = (f_wb - y[i]) * x[i] \n",
    "        dj_db_i = f_wb - y[i] \n",
    "        dj_db += dj_db_i\n",
    "        dj_dw += dj_dw_i \n",
    "    dj_dw = dj_dw / m \n",
    "    dj_db = dj_db / m \n",
    "        \n",
    "    return dj_dw, dj_db"
   ]
  },
  {
   "cell_type": "code",
   "execution_count": 26,
   "id": "4a3ed527",
   "metadata": {},
   "outputs": [],
   "source": [
    "import math, copy\n",
    "def gradient_descent(x, y, w_in, b_in, alpha, num_iters, cost_function, gradient_function): \n",
    "    \"\"\"\n",
    "    Performs gradient descent to fit w,b. Updates w,b by taking \n",
    "    num_iters gradient steps with learning rate alpha\n",
    "    \n",
    "    Args:\n",
    "      x (ndarray (m,))  : Data, m examples \n",
    "      y (ndarray (m,))  : target values\n",
    "      w_in,b_in (scalar): initial values of model parameters  \n",
    "      alpha (float):     Learning rate\n",
    "      num_iters (int):   number of iterations to run gradient descent\n",
    "      cost_function:     function to call to produce cost\n",
    "      gradient_function: function to call to produce gradient\n",
    "      \n",
    "    Returns:\n",
    "      w (scalar): Updated value of parameter after running gradient descent\n",
    "      b (scalar): Updated value of parameter after running gradient descent\n",
    "      J_history (List): History of cost values\n",
    "      p_history (list): History of parameters [w,b] \n",
    "      \"\"\"\n",
    "    \n",
    "    w = copy.deepcopy(w_in) # avoid modifying global w_in\n",
    "    # An array to store cost J and w's at each iteration primarily for graphing later\n",
    "    J_history = []\n",
    "    p_history = []\n",
    "    b = b_in\n",
    "    w = w_in\n",
    "    \n",
    "    for i in range(num_iters):\n",
    "        # Calculate the gradient and update the parameters using gradient_function\n",
    "        dj_dw, dj_db = gradient_function(x, y, w , b)\n",
    "        \n",
    "        if dj_dw < 1e-2 and dj_db < 1e-2:\n",
    "            return w, b, J_history, p_history #return w and J,w history for graphing\n",
    "\n",
    "        # Update Parameters using equation (3) above\n",
    "        b = b - alpha * dj_db                            \n",
    "        w = w - alpha * dj_dw                            \n",
    "        \n",
    "        \n",
    "        # Save cost J at each iteration\n",
    "        if i<num_iters:      # prevent resource exhaustion \n",
    "            J_history.append( cost_function(x, y, w , b))\n",
    "            p_history.append([w,b])\n",
    "        # Print cost every at intervals 10 times or as many iterations if < 10\n",
    "        if i% math.ceil(num_iters/50) == 0:\n",
    "            print(f\"Iteration {i:4}: Cost {J_history[-1]:0.2e} \",\n",
    "                  f\"dj_dw: {dj_dw: 0.3e}, dj_db: {dj_db: 0.3e}  \",\n",
    "                  f\"w: {w: 0.3e}, b:{b: 0.5e}\")\n",
    "\n",
    "        \n",
    "    return w, b, J_history, p_history #return w and J,w history for graphing"
   ]
  },
  {
   "cell_type": "code",
   "execution_count": 30,
   "id": "99635c4c",
   "metadata": {},
   "outputs": [
    {
     "name": "stdout",
     "output_type": "stream",
     "text": [
      "Iteration    0: Cost 4.48e+00  dj_dw:  5.319e+01, dj_db:  1.074e+00   w:  9.995e-01, b: 9.99989e-01\n",
      "Iteration 10000: Cost 4.08e+00  dj_dw: -4.055e-03, dj_db:  2.707e-01   w:  9.845e-01, b: 9.72351e-01\n",
      "Iteration 20000: Cost 4.07e+00  dj_dw: -3.955e-03, dj_db:  2.640e-01   w:  9.849e-01, b: 9.45621e-01\n",
      "Iteration 30000: Cost 4.07e+00  dj_dw: -3.857e-03, dj_db:  2.574e-01   w:  9.853e-01, b: 9.19554e-01\n",
      "Iteration 40000: Cost 4.06e+00  dj_dw: -3.761e-03, dj_db:  2.510e-01   w:  9.857e-01, b: 8.94132e-01\n",
      "Iteration 50000: Cost 4.05e+00  dj_dw: -3.668e-03, dj_db:  2.448e-01   w:  9.860e-01, b: 8.69339e-01\n",
      "Iteration 60000: Cost 4.05e+00  dj_dw: -3.577e-03, dj_db:  2.388e-01   w:  9.864e-01, b: 8.45160e-01\n",
      "Iteration 70000: Cost 4.04e+00  dj_dw: -3.489e-03, dj_db:  2.329e-01   w:  9.867e-01, b: 8.21580e-01\n",
      "Iteration 80000: Cost 4.04e+00  dj_dw: -3.402e-03, dj_db:  2.271e-01   w:  9.871e-01, b: 7.98583e-01\n",
      "Iteration 90000: Cost 4.03e+00  dj_dw: -3.318e-03, dj_db:  2.215e-01   w:  9.874e-01, b: 7.76156e-01\n",
      "(w,b) found by gradient descent: (  0.9877,  0.7543)\n"
     ]
    }
   ],
   "source": [
    "x_train = np.array(x)\n",
    "y_train = np.array(y)\n",
    "# # Load our data set\n",
    "# x_train = np.array([1.0, 2.0])   #features\n",
    "# y_train = np.array([300.0, 500.0])   #target value\n",
    "# initialize parameters\n",
    "w_init = 1\n",
    "b_init = 1\n",
    "# some gradient descent settings\n",
    "iterations = 100000\n",
    "tmp_alpha = 0.00001\n",
    "# run gradient descent\n",
    "w_final, b_final, J_hist, p_hist = gradient_descent(x_train ,y_train, w_init, b_init, tmp_alpha, \n",
    "                                                    iterations, compute_cost, compute_gradient)\n",
    "print(f\"(w,b) found by gradient descent: ({w_final:8.4f},{b_final:8.4f})\")"
   ]
  },
  {
   "cell_type": "code",
   "execution_count": 35,
   "id": "9f3c1530",
   "metadata": {},
   "outputs": [
    {
     "data": {
      "image/png": "[encoded data removed]",
      "text/plain": [
       "<Figure size 640x480 with 1 Axes>"
      ]
     },
     "metadata": {},
     "output_type": "display_data"
    }
   ],
   "source": [
    "# 绘制散点图\n",
    "plt.scatter(x, y, c=\"blue\", s = 3)\n",
    "\n",
    "# 设置横纵坐标标签\n",
    "plt.xlabel('x')\n",
    "plt.ylabel('y')\n",
    "\n",
    "plt.plot(x, w_final * x + b_final, color='red')\n",
    "\n",
    "# 显示图形\n",
    "plt.show()"
   ]
  },
  {
   "cell_type": "code",
   "execution_count": 43,
   "id": "84852dfa",
   "metadata": {},
   "outputs": [
    {
     "data": {
      "image/png": "[encoded data removed]",
      "text/plain": [
       "<Figure size 640x480 with 1 Axes>"
      ]
     },
     "metadata": {},
     "output_type": "display_data"
    }
   ],
   "source": [
    "# 绘制散点图\n",
    "plt.scatter(x_test, y_test, c=\"blue\", s = 3)\n",
    "\n",
    "# 设置横纵坐标标签\n",
    "plt.xlabel('x')\n",
    "plt.ylabel('y')\n",
    "\n",
    "plt.plot(x, w_final * x + b_final, color='red')\n",
    "\n",
    "# 显示图形\n",
    "plt.show()"
   ]
  },
  {
   "cell_type": "code",
   "execution_count": 52,
   "id": "063055f7",
   "metadata": {},
   "outputs": [
    {
     "name": "stdout",
     "output_type": "stream",
     "text": [
      "mean_error: 2.457502867015017, mean_squared_error: 3.1234212679691966\n"
     ]
    }
   ],
   "source": [
    "def score(x_test, y_test, w, b):\n",
    "    m = x_test.shape[0]\n",
    "    mae_error = 0\n",
    "    mse_error = 0\n",
    "    for i in range(m):\n",
    "        mse_error += (w * x_test[i] + b - y_test[i])**2\n",
    "        mae_error += math.fabs(w * x_test[i] + b - y_test[i])\n",
    "    return mae_error/m, math.sqrt(mse_error/m)\n",
    "\n",
    "x_test = np.array(test_data['x'])\n",
    "y_test = np.array(test_data['y'])\n",
    "\n",
    "mae_error, mse_error = score(x_test, y_test, w_final, b_final)\n",
    "print(f\"mean_error: {mae_error}, mean_squared_error: {mse_error}\")"
   ]
  },
  {
   "cell_type": "code",
   "execution_count": 48,
   "id": "1e5537a2",
   "metadata": {},
   "outputs": [
    {
     "data": {
      "text/plain": [
       "(2.4575028670150165, 9.755760417202302)"
      ]
     },
     "execution_count": 48,
     "metadata": {},
     "output_type": "execute_result"
    }
   ],
   "source": [
    "# 使用sklean库对比一下\n",
    "y_pred = w_final * x_test + b_final\n",
    "from sklearn.metrics import mean_absolute_error, mean_squared_error\n",
    "mean_absolute_error(y_test, y_pred),mean_squared_error(y_test, y_pred)"
   ]
  },
  {
   "cell_type": "code",
   "execution_count": null,
   "id": "06d96f88",
   "metadata": {},
   "outputs": [],
   "source": []
  }
 ],
 "metadata": {
  "kernelspec": {
   "display_name": "Python 3 (ipykernel)",
   "language": "python",
   "name": "python3"
  },
  "language_info": {
   "codemirror_mode": {
    "name": "ipython",
    "version": 3
   },
   "file_extension": ".py",
   "mimetype": "text/x-python",
   "name": "python",
   "nbconvert_exporter": "python",
   "pygments_lexer": "ipython3",
   "version": "3.10.9"
  }
 },
 "nbformat": 4,
 "nbformat_minor": 5
}
